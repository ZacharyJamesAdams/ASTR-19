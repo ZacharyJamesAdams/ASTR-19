{
 "cells": [
  {
   "cell_type": "markdown",
   "id": "b3ed1a24",
   "metadata": {},
   "source": [
    "# 10/09/2025"
   ]
  },
  {
   "cell_type": "code",
   "execution_count": 25,
   "id": "1644ce1a",
   "metadata": {},
   "outputs": [],
   "source": [
    "import numpy as np\n",
    "import matplotlib.pyplot as plt\n",
    "from mpl_toolkits.mplot3d import axes3d"
   ]
  },
  {
   "cell_type": "markdown",
   "id": "afd3eb8a",
   "metadata": {},
   "source": [
    "### Visualization of the Day\n",
    "- Gas outflow from galaxy driven by supernovae.  \n",
    "- Enough kinetic energy imparted by blast that gas escapes entire galaxy's escape velocity.  \n",
    "- Seems to take on an accretion disc-like shape that aligns with galactic plane.  \n",
    "- Uses Nvidia software to make a fancy 3d scene through which a camera travels; gives Shadertoy vibes.  \n",
    "- As different gasses flow out, they mix and become more dense. This denser mixture cools faster than the rarified gas. Once a certain density is reached, spectroscopic methods can be used to determine nature of the gases.  \n"
   ]
  },
  {
   "cell_type": "markdown",
   "id": "29d30b47",
   "metadata": {},
   "source": [
    "### Other Stuff\n",
    "- Assignments\n",
    "  - Textbook Reading Ch. 3 and 4 (and whatever I haven't read yet)\n",
    "  - HW quiz due Thursday\n",
    "  - Coding Journal 5 is due Friday "
   ]
  },
  {
   "cell_type": "markdown",
   "id": "8ecf9b98",
   "metadata": {},
   "source": [
    "### Line Fitting/ Curve Fitting (continued)\n",
    "> used `numpy` method to get linear least squares coefficients\n",
    "> plotted data, best fit line, and error bars"
   ]
  },
  {
   "cell_type": "code",
   "execution_count": null,
   "id": "60336ab6",
   "metadata": {},
   "outputs": [
    {
     "name": "stdout",
     "output_type": "stream",
     "text": [
      "m_fit = 1.9451065205599272\n",
      "b_fit = 1.4245160219442914\n"
     ]
    },
    {
     "data": {
      "image/png": "[encoded data removed]",
      "text/plain": [
       "<Figure size 700x700 with 1 Axes>"
      ]
     },
     "metadata": {},
     "output_type": "display_data"
    }
   ],
   "source": [
    "# from last time\n",
    "def generate_random_data():\n",
    "    np.random.seed(119)\n",
    "    npoints = 50\n",
    "\n",
    "    x = np.linspace(0, 10, npoints)\n",
    "    m = 2.0\n",
    "    b = 1.0\n",
    "    sigma = 3.0\n",
    "\n",
    "    y = m*x + b + np.random.normal(scale=sigma, size=npoints)\n",
    "    y_err = np.full(npoints, sigma)\n",
    "    return x, y, y_err\n",
    "\n",
    "\n",
    "def get_best_fit():\n",
    "    m_fit, b_fit = np.poly1d(np.polyfit(x, y, 1, w=1./y_err))\n",
    "    for i in ('m_fit', 'b_fit'):\n",
    "        print(f'{i} = {eval(i)}')\n",
    "\n",
    "    y_fit = m_fit*x + b_fit\n",
    "    return m_fit, b_fit, y_fit\n",
    "\n",
    "\n",
    "x, y, y_err = generate_random_data()\n",
    "m_fit, b_fit, y_fit = get_best_fit()\n",
    "\n",
    "fig = plt.figure(figsize=(7, 7))\n",
    "ax = fig.add_subplot(1, 1, 1)\n",
    "ax.errorbar(x,y,y_err,fmt= 'o')\n",
    "line = plt.Line2D(x, y_fit, linewidth=1,color='Orange')\n",
    "ax.add_line(line)"
   ]
  },
  {
   "cell_type": "code",
   "execution_count": null,
   "id": "0c343f8f",
   "metadata": {},
   "outputs": [],
   "source": []
  }
 ],
 "metadata": {
  "kernelspec": {
   "display_name": "Python 3",
   "language": "python",
   "name": "python3"
  },
  "language_info": {
   "codemirror_mode": {
    "name": "ipython",
    "version": 3
   },
   "file_extension": ".py",
   "mimetype": "text/x-python",
   "name": "python",
   "nbconvert_exporter": "python",
   "pygments_lexer": "ipython3",
   "version": "3.13.3"
  }
 },
 "nbformat": 4,
 "nbformat_minor": 5
}
