{
 "cells": [
  {
   "cell_type": "markdown",
   "id": "9d884c46",
   "metadata": {},
   "source": [
    "# Notes: 10/07/2025 #1\n",
    "\n",
    "Data Types Continued\n"
   ]
  },
  {
   "cell_type": "code",
   "execution_count": null,
   "id": "1dfe495d",
   "metadata": {},
   "outputs": [],
   "source": []
  }
 ],
 "metadata": {
  "kernelspec": {
   "display_name": "Python 3",
   "language": "python",
   "name": "python3"
  },
  "language_info": {
   "codemirror_mode": {
    "name": "ipython",
    "version": 3
   },
   "file_extension": ".py",
   "mimetype": "text/x-python",
   "name": "python",
   "nbconvert_exporter": "python",
   "pygments_lexer": "ipython3",
   "version": "3.13.3"
  }
 },
 "nbformat": 4,
 "nbformat_minor": 5
}
