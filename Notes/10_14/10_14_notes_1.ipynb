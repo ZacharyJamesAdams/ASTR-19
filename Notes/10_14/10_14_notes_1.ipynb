{
 "cells": [
  {
   "cell_type": "markdown",
   "id": "9e1e89ab",
   "metadata": {},
   "source": [
    "## Session 6: 10/14/2025\n",
    "\n",
    ">Review from Session 5\n",
    ">> 1. Exceptions\n",
    ">> 2. Modules\n",
    ">> 3. CLI arguments\n",
    ">> 4. f-strings\n",
    "\n",
    "## Today"
   ]
  },
  {
   "cell_type": "markdown",
   "id": "6d0b10a4",
   "metadata": {
    "vscode": {
     "languageId": "plaintext"
    }
   },
   "source": [
    "### 1. Visualization of the Day\n",
    "\n",
    "- plot from simulation  \n",
    "- low resolution sim of formation of galaxy-forming regions  \n",
    "- coloration corresponds to depth of potential well due to presence of dark matter  \n",
    "- shows 3d dimension by rotating data on a 2d plot\n",
    "- uses camera transform on data to project 3d info onto 2d plane of plot"
   ]
  },
  {
   "cell_type": "markdown",
   "id": "4d573eeb",
   "metadata": {},
   "source": [
    "### 2. Announcements\n",
    "\n",
    "First live coding demo\n",
    "- due on Oct 31* at 5:05pm\n",
    "- instructions on canvas"
   ]
  },
  {
   "cell_type": "markdown",
   "id": "2d9f7a4d",
   "metadata": {},
   "source": [
    "### 3. Classes\n",
    "\n",
    "- see ./classes.py\n",
    "- see ./using_numpy.py"
   ]
  },
  {
   "cell_type": "markdown",
   "id": "fc0bfdd9",
   "metadata": {},
   "source": [
    "### 4. Jupyter Notebooks\n",
    "\n",
    "- installed jupyter via: `pip install jupyter`\n",
    "- can run jupyter from command line with: `jupyter`\n",
    "- can run open notebook from command line with: `jupyter notebook [existing ipynb]`\n",
    "  - opens in browser and has different key binds than those in vscode\n",
    "  - kinda clunky\n",
    "  - 10/10"
   ]
  },
  {
   "cell_type": "markdown",
   "id": "f02b1e5b",
   "metadata": {},
   "source": [
    "### 5. Matplotlib   \n",
    "\n"
   ]
  }
 ],
 "metadata": {
  "language_info": {
   "name": "python"
  }
 },
 "nbformat": 4,
 "nbformat_minor": 5
}
