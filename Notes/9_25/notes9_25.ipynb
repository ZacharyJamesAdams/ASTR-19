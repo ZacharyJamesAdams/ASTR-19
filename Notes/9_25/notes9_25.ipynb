{
 "cells": [
  {
   "cell_type": "markdown",
   "id": "d28f45de",
   "metadata": {},
   "source": [
    "# September 25, 2025"
   ]
  },
  {
   "cell_type": "code",
   "execution_count": 1,
   "id": "16e28f98",
   "metadata": {},
   "outputs": [],
   "source": [
    "# Coordinate wizardry\n",
    "import numpy as np\n",
    "from matplotlib.transforms import ScaledTranslation \n",
    "import matplotlib.pyplot as plt"
   ]
  },
  {
   "cell_type": "code",
   "execution_count": null,
   "id": "ba28cfd7",
   "metadata": {},
   "outputs": [],
   "source": [
    "fig = plt.figure(figsize=(6,4))\n",
    "ax = fig.add_subplot(2,1,1)"
   ]
  }
 ],
 "metadata": {
  "kernelspec": {
   "display_name": "Python 3",
   "language": "python",
   "name": "python3"
  },
  "language_info": {
   "codemirror_mode": {
    "name": "ipython",
    "version": 3
   },
   "file_extension": ".py",
   "mimetype": "text/x-python",
   "name": "python",
   "nbconvert_exporter": "python",
   "pygments_lexer": "ipython3",
   "version": "3.13.3"
  }
 },
 "nbformat": 4,
 "nbformat_minor": 5
}
