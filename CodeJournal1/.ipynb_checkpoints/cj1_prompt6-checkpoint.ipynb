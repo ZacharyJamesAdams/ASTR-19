{
 "cells": [
  {
   "cell_type": "markdown",
   "id": "884554d0",
   "metadata": {},
   "source": [
    "Create a Jupyter Notebook where, in separate cells, you define functions that return sin(x) and cos(x). Use Markdown  \n",
    "cells to comment your Notebook, and describe what each function does. Create a third Python cell that will tabulate  \n",
    "sin(x) and cos(x) using these previously defined functions vs. x, where x is tabulated between 0 and 2pi with a thousand  \n",
    "entries. Write a fourth Python cell that will use a for loop to print out the first 10 values of x, sin(x), and cos(x)  \n",
    "in columns  \n"
   ]
  },
  {
   "cell_type": "markdown",
   "id": "4ec3da44",
   "metadata": {},
   "source": [
    "### Code Journal 1, Session 6 Prompt\n",
    "\n",
    "This Jupyter Notebook calculates, tabulates, then prints the values for x, sin(x), and cos(x).  \n",
    "Each of x, sin(x), and cos(x) are shown in adjacent columns.\n",
    "The values will be calculated using x in the range of 0 to 2pi inclusive with 1000 entries."
   ]
  },
  {
   "cell_type": "markdown",
   "id": "d0579151",
   "metadata": {},
   "source": [
    "Import numpy to make use of its arrays and linspace function."
   ]
  },
  {
   "cell_type": "code",
   "execution_count": 23,
   "id": "23c87040",
   "metadata": {},
   "outputs": [],
   "source": [
    "import numpy as np"
   ]
  },
  {
   "cell_type": "markdown",
   "id": "2e862d1b",
   "metadata": {},
   "source": [
    "Defining a function that returns $\\sin(x_i)$ for each value in the iterable, x. "
   ]
  },
  {
   "cell_type": "code",
   "execution_count": 24,
   "id": "d170cc99",
   "metadata": {},
   "outputs": [],
   "source": [
    "def get_sin(x):\n",
    "    return np.sin(x)"
   ]
  },
  {
   "cell_type": "markdown",
   "id": "1691b642",
   "metadata": {},
   "source": [
    "Defining a function that returns $\\cos(x_i)$ for each value in the iterable, x. "
   ]
  },
  {
   "cell_type": "code",
   "execution_count": 25,
   "id": "d0e6ebc0",
   "metadata": {},
   "outputs": [],
   "source": [
    "def get_cos(x):\n",
    "    return np.cos(x)"
   ]
  },
  {
   "cell_type": "markdown",
   "id": "b5c13600",
   "metadata": {},
   "source": [
    "Code to calculate and tabulate x, sin(x) and cos(x) for 1000 equally-spaced values of x $\\in [0,2\\pi]$ (inclusive)."
   ]
  },
  {
   "cell_type": "code",
   "execution_count": null,
   "id": "1ae30c32",
   "metadata": {},
   "outputs": [],
   "source": [
    "x = np.linspace(0,2,)"
   ]
  },
  {
   "cell_type": "markdown",
   "id": "217b49a8",
   "metadata": {},
   "source": [
    "Using the above functions to calculate, tabulate, and print the first 10 rows of the table."
   ]
  },
  {
   "cell_type": "code",
   "execution_count": 27,
   "id": "f2dbcdaf",
   "metadata": {},
   "outputs": [
    {
     "name": "stdout",
     "output_type": "stream",
     "text": [
      "|  x    |  sin(x)               |  cos(x)               \n",
      "--------------------------------------------------------\n",
      "|  0.0  |  0.0                  |  1.0                  \n",
      "|  1.0  |  0.8414709848078965   |  0.5403023058681398   \n",
      "|  2.0  |  0.9092974268256817   |  -0.4161468365471424  \n",
      "|  3.0  |  0.1411200080598672   |  -0.9899924966004454  \n",
      "|  4.0  |  -0.7568024953079282  |  -0.6536436208636119  \n"
     ]
    }
   ],
   "source": [
    "x = np.linspace(0,5,5,False)\n",
    "functions = (get_sin,get_cos)\n",
    "headers = 'x sin(x) cos(x)'.split()\n",
    "table = tabulate(x,functions,headers)"
   ]
  }
 ],
 "metadata": {
  "kernelspec": {
   "display_name": "Python 3 (ipykernel)",
   "language": "python",
   "name": "python3"
  },
  "language_info": {
   "codemirror_mode": {
    "name": "ipython",
    "version": 3
   },
   "file_extension": ".py",
   "mimetype": "text/x-python",
   "name": "python",
   "nbconvert_exporter": "python",
   "pygments_lexer": "ipython3",
   "version": "3.14.0"
  }
 },
 "nbformat": 4,
 "nbformat_minor": 5
}
