{
 "cells": [
  {
   "cell_type": "markdown",
   "id": "dd363ff7",
   "metadata": {},
   "source": [
    "Create a Jupyter Notebook where, in separate cells, you define functions that return sin(x) and cos(x). Use Markdown  \n",
    "cells to comment your Notebook, and describe what each function does. Create a third Python cell that will tabulate  \n",
    "sin(x) and cos(x) using these previously defined functions vs. x, where x is tabulated between 0 and 2 with a thousand  \n",
    "entries. Write a fourth Python cell that will use a for loop to print out the first 10 values of x, sin(x), and cos(x)  \n",
    "in columns  \n"
   ]
  },
  {
   "cell_type": "markdown",
   "id": "5d2f3700",
   "metadata": {},
   "source": [
    "### Code Journal 1, Session 6 Prompt\n",
    "\n",
    "This Jupyter Notebook calculates, tabulates, then prints the values for x, sin(x), and cos(x).  \n",
    "Each of x, sin(x), and cos(x) are shown in adjacent columns.\n",
    "The values will be calculated using x in the range of 0 to 2 inclusive with 1000 entries."
   ]
  },
  {
   "cell_type": "markdown",
   "id": "a31d2935",
   "metadata": {},
   "source": [
    "Import numpy to make use of its arrays and linspace function."
   ]
  },
  {
   "cell_type": "code",
   "execution_count": 1,
   "id": "927ce429",
   "metadata": {},
   "outputs": [],
   "source": [
    "import numpy as np"
   ]
  },
  {
   "cell_type": "markdown",
   "id": "eea40fe5",
   "metadata": {},
   "source": [
    "Defining a function that returns sin(x<sub>i</sub>) for each value in the iterable, x. "
   ]
  },
  {
   "cell_type": "code",
   "execution_count": 2,
   "id": "6256aa90",
   "metadata": {},
   "outputs": [],
   "source": [
    "def get_sin(x):\n",
    "    return np.sin(x)"
   ]
  },
  {
   "cell_type": "markdown",
   "id": "5db64074",
   "metadata": {},
   "source": [
    "Defining a function that returns cos(x<sub>i</sub>) for each value in the iterable, x. "
   ]
  },
  {
   "cell_type": "code",
   "execution_count": 3,
   "id": "0a75b20e",
   "metadata": {},
   "outputs": [],
   "source": [
    "def get_cos(x):\n",
    "    return np.cos(x)"
   ]
  },
  {
   "cell_type": "markdown",
   "id": "f86420e6",
   "metadata": {},
   "source": [
    "Defining a function that takes as input:\n",
    "\n",
    "> ``` python\n",
    "> x: list[int|float]\n",
    "> ```\n",
    ">     An iterable of values to operate on\n",
    "\n",
    "> ``` python\n",
    ">functions: list[callable]  \n",
    "> ```\n",
    ">    An iterable of functions operating on x\n",
    "\n",
    "> ``` python\n",
    ">headers: list[str]  \n",
    "> ```\n",
    ">    An iterable containing labels for the x iterable and each of the functions in functions\n"
   ]
  },
  {
   "cell_type": "code",
   "execution_count": 4,
   "id": "a925711d",
   "metadata": {},
   "outputs": [],
   "source": [
    "def tabulate(x, functions: tuple,headers: tuple):\n",
    "    n = len(functions)\n",
    "    assert n+1 == len(headers), f'The number of headers, {len(headers)}, does not match the number of fields ({1+n}).'\n",
    "    data = [x]\n",
    "    for func in functions:\n",
    "        data.append(func(x))\n",
    "    data = np.array(data)\n",
    "    widths = [ max( (len(str(val)) for val in i) ) for i in data ]\n",
    "    for i,(h,v) in enumerate(zip(headers,widths)):\n",
    "        widths[i] = max((len(h),v))\n",
    "            \n",
    "    format_string = '{0:<{1}}'\n",
    "    header_line=[]\n",
    "    for i,s in enumerate(headers):\n",
    "        header_line.append('|  ')\n",
    "        header_line.append(format_string.format(s,widths[i]))\n",
    "        header_line.append('  ')\n",
    "    header_line = ''.join(header_line)\n",
    "\n",
    "    lines = []\n",
    "    data = data.T\n",
    "    for col in data:\n",
    "        lines.append([])\n",
    "        for i,v in enumerate(col):\n",
    "            string = ''.join(('|  ',format_string.format(str(v),widths[i]),'  '))\n",
    "            lines[-1].append(string)\n",
    "    lines = [''.join(i) for i in lines]\n",
    "    print(header_line)\n",
    "    print('-' * len(max(lines,key=len)))\n",
    "    for i in lines:\n",
    "        print(i)\n"
   ]
  },
  {
   "cell_type": "markdown",
   "id": "66b08106",
   "metadata": {},
   "source": [
    "Using the above functions to calculate, tabulate, and print the first 10 rows of the table."
   ]
  },
  {
   "cell_type": "code",
   "execution_count": 5,
   "id": "b6a8bda0",
   "metadata": {},
   "outputs": [
    {
     "name": "stdout",
     "output_type": "stream",
     "text": [
      "|  x    |  sin(x)               |  cos(x)               \n",
      "--------------------------------------------------------\n",
      "|  0.0  |  0.0                  |  1.0                  \n",
      "|  1.0  |  0.8414709848078965   |  0.5403023058681398   \n",
      "|  2.0  |  0.9092974268256817   |  -0.4161468365471424  \n",
      "|  3.0  |  0.1411200080598672   |  -0.9899924966004454  \n",
      "|  4.0  |  -0.7568024953079282  |  -0.6536436208636119  \n"
     ]
    }
   ],
   "source": [
    "x = np.linspace(0,5,5,False)\n",
    "functions = (get_sin,get_cos)\n",
    "headers = 'x sin(x) cos(x)'.split()\n",
    "table = tabulate(x,functions,headers)"
   ]
  }
 ],
 "metadata": {
  "kernelspec": {
   "display_name": "Python 3",
   "language": "python",
   "name": "python3"
  },
  "language_info": {
   "codemirror_mode": {
    "name": "ipython",
    "version": 3
   },
   "file_extension": ".py",
   "mimetype": "text/x-python",
   "name": "python",
   "nbconvert_exporter": "python",
   "pygments_lexer": "ipython3",
   "version": "3.14.0"
  }
 },
 "nbformat": 4,
 "nbformat_minor": 5
}
