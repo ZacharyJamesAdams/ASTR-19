{
 "cells": [
  {
   "cell_type": "markdown",
   "id": "4ec3da44",
   "metadata": {},
   "source": [
    "# Code Journal 1\n",
    "## Prompt 6\n",
    "\n",
    "Create a Jupyter Notebook where, in separate cells, you define functions that return sin(x) and cos(x). Use Markdown cells to comment your Notebook, and describe what each function does. Create a third Python cell that will tabulate sin(x) and cos(x) using these previously defined functions vs. x, where x is tabulated between 0 and 2 with a thousand entries. Write a fourth Python cell that will use a for loop to print out the first 10 values of x, sin(x), and cos(x) in columns"
   ]
  },
  {
   "cell_type": "code",
   "execution_count": 145,
   "id": "23c87040",
   "metadata": {},
   "outputs": [],
   "source": [
    "import numpy as np"
   ]
  },
  {
   "cell_type": "code",
   "execution_count": 146,
   "id": "d170cc99",
   "metadata": {},
   "outputs": [],
   "source": [
    "def get_sin(x):\n",
    "    return np.sin(x)"
   ]
  },
  {
   "cell_type": "code",
   "execution_count": 147,
   "id": "d0e6ebc0",
   "metadata": {},
   "outputs": [],
   "source": [
    "def get_cos(x):\n",
    "    return np.cos(x)"
   ]
  },
  {
   "cell_type": "code",
   "execution_count": null,
   "id": "1ae30c32",
   "metadata": {},
   "outputs": [],
   "source": [
    "def tabulate(x, functions: tuple,headers: tuple):\n",
    "    n = len(functions)\n",
    "    assert n+1 == len(headers), f'The number of headers, {len(headers)}, does not match the number of fields ({1+n}).'\n",
    "    data = [x]\n",
    "    for func in functions:\n",
    "        data.append(func(x))\n",
    "    data = np.array(data)\n",
    "    widths = [ max( (len(str(val)) for val in i) ) for i in data ]\n",
    "    for i,(h,v) in enumerate(zip(headers,widths)):\n",
    "        widths[i] = max((len(h),v))\n",
    "            \n",
    "    format_string = '{0:<{1}}'\n",
    "    header_line=[]\n",
    "    for i,s in enumerate(headers):\n",
    "        header_line.append('|  ')\n",
    "        header_line.append(format_string.format(s,widths[i]))\n",
    "        header_line.append('  ')\n",
    "    header_line = ''.join(header_line)\n",
    "\n",
    "    lines = []\n",
    "    data = data.T\n",
    "    for col in data:\n",
    "        lines.append([])\n",
    "        for i,v in enumerate(col):\n",
    "            string = ''.join(('|  ',format_string.format(str(v),widths[i]),'  '))\n",
    "            lines[-1].append(string)\n",
    "    lines = [''.join(i) for i in lines]\n",
    "    print(header_line)\n",
    "    for i in lines:\n",
    "        print(i)\n",
    "\n",
    "\n",
    "    \n",
    "    return 0 \n",
    "    header = '|  {0:^{2}}  |  {1:^{3}}  |'.format(\n",
    "        'x', 'sin(x)', x_width, y_width)\n",
    "    h_div = '|' + '-' * (len(header)-2) + '|'\n",
    "    table = [header, h_div]\n",
    "    for x, y in zip(X, Y):\n",
    "        table.append(format_string.format(x, y, x_width, y_width))\n",
    "    return '\\n'.join(table)"
   ]
  },
  {
   "cell_type": "code",
   "execution_count": 149,
   "id": "1058e14d",
   "metadata": {},
   "outputs": [],
   "source": [
    "def main():\n",
    "    x = np.linspace(0,5,5,False)\n",
    "    functions = (get_sin,get_cos)\n",
    "    headers = 'x sin(x) cos(x)'.split()\n",
    "    table = tabulate(x,functions,headers)"
   ]
  },
  {
   "cell_type": "code",
   "execution_count": 150,
   "id": "0d6d6de2",
   "metadata": {},
   "outputs": [
    {
     "name": "stdout",
     "output_type": "stream",
     "text": [
      "|  x    |  sin(x)               |  cos(x)               \n",
      "|  0.0  |  0.0                  |  1.0                  \n",
      "|  1.0  |  0.8414709848078965   |  0.5403023058681398   \n",
      "|  2.0  |  0.9092974268256817   |  -0.4161468365471424  \n",
      "|  3.0  |  0.1411200080598672   |  -0.9899924966004454  \n",
      "|  4.0  |  -0.7568024953079282  |  -0.6536436208636119  \n"
     ]
    }
   ],
   "source": [
    "if __name__ == '__main__':\n",
    "    main()"
   ]
  }
 ],
 "metadata": {
  "kernelspec": {
   "display_name": "Python 3",
   "language": "python",
   "name": "python3"
  },
  "language_info": {
   "codemirror_mode": {
    "name": "ipython",
    "version": 3
   },
   "file_extension": ".py",
   "mimetype": "text/x-python",
   "name": "python",
   "nbconvert_exporter": "python",
   "pygments_lexer": "ipython3",
   "version": "3.13.3"
  }
 },
 "nbformat": 4,
 "nbformat_minor": 5
}
