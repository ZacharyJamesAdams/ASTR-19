{
 "cells": [
  {
   "cell_type": "markdown",
   "id": "4ec3da44",
   "metadata": {},
   "source": [
    "### Code Journal 1, Session 6 Prompt\n",
    "\n",
    "This Jupyter Notebook calculates, tabulates, then prints the values for x, sin(x), and cos(x).  \n",
    "Each of x, sin(x), and cos(x) are shown in adjacent columns.\n",
    "The values will be calculated using x in the range of 0 to 2pi inclusive with 1000 entries."
   ]
  },
  {
   "cell_type": "markdown",
   "id": "d0579151",
   "metadata": {},
   "source": [
    "Import numpy to make use of its arrays and linspace function."
   ]
  },
  {
   "cell_type": "code",
   "execution_count": 1,
   "id": "23c87040",
   "metadata": {},
   "outputs": [],
   "source": [
    "import numpy as np"
   ]
  },
  {
   "cell_type": "markdown",
   "id": "2e862d1b",
   "metadata": {},
   "source": [
    "Defines a function that returns $\\sin(x_i)$ for each value in the iterable, x. "
   ]
  },
  {
   "cell_type": "code",
   "execution_count": 2,
   "id": "d170cc99",
   "metadata": {},
   "outputs": [],
   "source": [
    "def get_sin(x):\n",
    "    return np.sin(x)"
   ]
  },
  {
   "cell_type": "markdown",
   "id": "1691b642",
   "metadata": {},
   "source": [
    "Defines a function that returns $\\cos(x_i)$ for each value in the iterable, x. "
   ]
  },
  {
   "cell_type": "code",
   "execution_count": 3,
   "id": "d0e6ebc0",
   "metadata": {},
   "outputs": [],
   "source": [
    "def get_cos(x):\n",
    "    return np.cos(x)"
   ]
  },
  {
   "cell_type": "markdown",
   "id": "b5c13600",
   "metadata": {},
   "source": [
    "Calculates and tabulates x, sin(x) and cos(x) for 1000 equally-spaced values of x $\\in [0,2\\pi]$ (inclusive)."
   ]
  },
  {
   "cell_type": "code",
   "execution_count": 4,
   "id": "1ae30c32",
   "metadata": {},
   "outputs": [],
   "source": [
    "x = np.linspace(0,2*np.pi,1000,endpoint=True)\n",
    "table = np.array([x,get_sin(x),get_cos(x)]).T"
   ]
  },
  {
   "cell_type": "markdown",
   "id": "217b49a8",
   "metadata": {},
   "source": [
    "Using a `for` loop to print the first 10 rows of the table.  \n",
    "Change `show_header := False` to `show_header := True` to get identifying labels above the columns."
   ]
  },
  {
   "cell_type": "code",
   "execution_count": 5,
   "id": "f2dbcdaf",
   "metadata": {},
   "outputs": [
    {
     "name": "stdout",
     "output_type": "stream",
     "text": [
      "0.0                     0.0                     1.0                     \n",
      "0.006289474781961547    0.006289433316067751    0.9999802213186832      \n",
      "0.012578949563923095    0.012578617838741058    0.9999208860571255      \n",
      "0.018868424345884642    0.01886730478446709     0.9998219965624732      \n",
      "0.02515789912784619     0.025155245389375847    0.9996835567465339      \n",
      "0.03144737390980774     0.0314421909191206      0.9995055720856215      \n",
      "0.037736848691769284    0.03772789267871718     0.99928804962034        \n",
      "0.04402632347373083     0.04401210202238166     0.9990309979553044      \n",
      "0.05031579825569238     0.05029457036336618     0.9987344272588006      \n",
      "0.056605273037653926    0.056575049183792345    0.9983983492623831      \n"
     ]
    }
   ],
   "source": [
    "if show_headers := False:\n",
    "    for val in ('x','sin(x)','cos(x)'):\n",
    "        print(f'{val:^20}',end = '    ')\n",
    "    print()\n",
    "\n",
    "for i in range(10):\n",
    "    for val in table[i]:\n",
    "        print(f'{val:<20}',end = '    ')\n",
    "    print()"
   ]
  }
 ],
 "metadata": {
  "kernelspec": {
   "display_name": "Python 3",
   "language": "python",
   "name": "python3"
  },
  "language_info": {
   "codemirror_mode": {
    "name": "ipython",
    "version": 3
   },
   "file_extension": ".py",
   "mimetype": "text/x-python",
   "name": "python",
   "nbconvert_exporter": "python",
   "pygments_lexer": "ipython3",
   "version": "3.14.0"
  }
 },
 "nbformat": 4,
 "nbformat_minor": 5
}
