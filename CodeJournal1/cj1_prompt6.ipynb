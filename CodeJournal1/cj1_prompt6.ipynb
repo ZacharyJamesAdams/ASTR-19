{
 "cells": [
  {
   "cell_type": "markdown",
   "id": "4ec3da44",
   "metadata": {},
   "source": [
    "# Code Journal 1\n",
    "## Prompt 6\n",
    "\n",
    "Create a Jupyter Notebook where, in separate cells, you define functions that return sin(x) and cos(x). Use Markdown cells to comment your Notebook, and describe what each function does. Create a third Python cell that will tabulate sin(x) and cos(x) using these previously defined functions vs. x, where x is tabulated between 0 and 2 with a thousand entries. Write a fourth Python cell that will use a for loop to print out the first 10 values of x, sin(x), and cos(x) in columns"
   ]
  },
  {
   "cell_type": "code",
   "execution_count": null,
   "id": "d170cc99",
   "metadata": {},
   "outputs": [],
   "source": []
  }
 ],
 "metadata": {
  "language_info": {
   "name": "python"
  }
 },
 "nbformat": 4,
 "nbformat_minor": 5
}
