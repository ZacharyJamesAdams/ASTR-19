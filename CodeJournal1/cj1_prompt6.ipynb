{
 "cells": [
  {
   "cell_type": "markdown",
   "id": "4ec3da44",
   "metadata": {},
   "source": [
    "### Code Journal 1, Session 6 Prompt\n",
    "\n",
    "This Jupyter Notebook calculates, tabulates, then prints the values for x, sin(x), and cos(x).  \n",
    "Each of x, sin(x), and cos(x) are shown in adjacent columns.\n",
    "The values will be calculated using x in the range of 0 to 2pi inclusive with 1000 entries."
   ]
  },
  {
   "cell_type": "markdown",
   "id": "d0579151",
   "metadata": {},
   "source": [
    "Import numpy to make use of its arrays and linspace function."
   ]
  },
  {
   "cell_type": "code",
   "execution_count": 1,
   "id": "23c87040",
   "metadata": {},
   "outputs": [],
   "source": [
    "import numpy as np"
   ]
  },
  {
   "cell_type": "markdown",
   "id": "2e862d1b",
   "metadata": {},
   "source": [
    "Defines a function that returns $\\sin(x_i)$ for each value in the iterable, x. "
   ]
  },
  {
   "cell_type": "code",
   "execution_count": 2,
   "id": "d170cc99",
   "metadata": {},
   "outputs": [],
   "source": [
    "def get_sin(x):\n",
    "    return np.sin(x)"
   ]
  },
  {
   "cell_type": "markdown",
   "id": "1691b642",
   "metadata": {},
   "source": [
    "Defines a function that returns $\\cos(x_i)$ for each value in the iterable, x. "
   ]
  },
  {
   "cell_type": "code",
   "execution_count": 3,
   "id": "d0e6ebc0",
   "metadata": {},
   "outputs": [],
   "source": [
    "def get_cos(x):\n",
    "    return np.cos(x)"
   ]
  },
  {
   "cell_type": "markdown",
   "id": "b5c13600",
   "metadata": {},
   "source": [
    "Calculates and tabulates x, sin(x) and cos(x) for 1000 equally-spaced values of x $\\in [0,2\\pi]$ (inclusive)."
   ]
  },
  {
   "cell_type": "code",
   "execution_count": 4,
   "id": "1ae30c32",
   "metadata": {},
   "outputs": [],
   "source": [
    "x = np.linspace(0,2*np.pi,1000,endpoint=True)\n",
    "table = np.array([x,get_sin(x),get_cos(x)]).T"
   ]
  },
  {
   "cell_type": "markdown",
   "id": "217b49a8",
   "metadata": {},
   "source": [
    "Using a `for` loop to print the first 10 rows of the table.  \n",
    "Change `show_header := False` to `show_header := True` to get identifying labels above the columns."
   ]
  },
  {
   "cell_type": "code",
   "execution_count": 5,
   "id": "f2dbcdaf",
   "metadata": {},
   "outputs": [
    {
     "name": "stdout",
     "output_type": "stream",
     "text": [
      "        x                   sin(x)                cos(x)          \n",
      " 0.000000000000000     0.000000000000000     1.000000000000000    \n",
      " 0.006289474781962     0.006289433316068     0.999980221318683    \n",
      " 0.012578949563923     0.012578617838741     0.999920886057125    \n",
      " 0.018868424345885     0.018867304784467     0.999821996562473    \n",
      " 0.025157899127846     0.025155245389376     0.999683556746534    \n",
      " 0.031447373909808     0.031442190919121     0.999505572085622    \n",
      " 0.037736848691769     0.037727892678717     0.999288049620340    \n",
      " 0.044026323473731     0.044012102022382     0.999030997955304    \n",
      " 0.050315798255692     0.050294570363366     0.998734427258801    \n",
      " 0.056605273037654     0.056575049183792     0.998398349262383    \n"
     ]
    }
   ],
   "source": [
    "if show_headers := True:\n",
    "    for val in ('x','sin(x)','cos(x)'):\n",
    "        print(f'{val:^18}',end = '    ')\n",
    "    print()\n",
    "\n",
    "for i in range(10):\n",
    "    for val in table[i]:\n",
    "        print(f'{val:< .15f}',end = '    ')\n",
    "    print()"
   ]
  }
 ],
 "metadata": {
  "kernelspec": {
   "display_name": "Python 3",
   "language": "python",
   "name": "python3"
  },
  "language_info": {
   "codemirror_mode": {
    "name": "ipython",
    "version": 3
   },
   "file_extension": ".py",
   "mimetype": "text/x-python",
   "name": "python",
   "nbconvert_exporter": "python",
   "pygments_lexer": "ipython3",
   "version": "3.14.0"
  }
 },
 "nbformat": 4,
 "nbformat_minor": 5
}
