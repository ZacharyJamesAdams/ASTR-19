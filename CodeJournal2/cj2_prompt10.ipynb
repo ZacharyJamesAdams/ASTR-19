{
 "cells": [
  {
   "cell_type": "markdown",
   "id": "6d3725b0",
   "metadata": {},
   "source": [
    "Create a Jupyter notebook, import matplotlib."
   ]
  },
  {
   "cell_type": "code",
   "execution_count": 91,
   "id": "a2bd82c7",
   "metadata": {},
   "outputs": [],
   "source": [
    "import numpy as np\n",
    "import matplotlib.pyplot as plt"
   ]
  },
  {
   "cell_type": "markdown",
   "id": "3b275934",
   "metadata": {},
   "source": [
    "On the numpy website, read about the random number distributions available for pulling random variates.  \n",
    "Select your favorite distribution (other than uniform) and pull 1000 random numbers from that distribution."
   ]
  },
  {
   "cell_type": "code",
   "execution_count": 92,
   "id": "57b68003",
   "metadata": {},
   "outputs": [
    {
     "data": {
      "image/png": "[encoded data removed]",
      "text/plain": [
       "<Figure size 640x480 with 1 Axes>"
      ]
     },
     "metadata": {},
     "output_type": "display_data"
    }
   ],
   "source": [
    "random = np.random.default_rng()\n",
    "samples = random.poisson(100,1000)\n",
    "\n",
    "hist = plt.hist(samples,50)"
   ]
  },
  {
   "cell_type": "markdown",
   "id": "bbe8f2d9",
   "metadata": {},
   "source": [
    "- Histogram the random numbers into 100 bins\n",
    "- plot the histogram\n",
    "- Label your axes\n",
    "- save the figure as a PDF"
   ]
  }
 ],
 "metadata": {
  "kernelspec": {
   "display_name": "Python 3",
   "language": "python",
   "name": "python3"
  },
  "language_info": {
   "codemirror_mode": {
    "name": "ipython",
    "version": 3
   },
   "file_extension": ".py",
   "mimetype": "text/x-python",
   "name": "python",
   "nbconvert_exporter": "python",
   "pygments_lexer": "ipython3",
   "version": "3.13.3"
  }
 },
 "nbformat": 4,
 "nbformat_minor": 5
}
